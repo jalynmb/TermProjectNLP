{
  "nbformat": 4,
  "nbformat_minor": 0,
  "metadata": {
    "colab": {
      "provenance": [],
      "authorship_tag": "ABX9TyMxDm3mzfIJNCejOpoxaOSy",
      "include_colab_link": true
    },
    "kernelspec": {
      "name": "python3",
      "display_name": "Python 3"
    },
    "language_info": {
      "name": "python"
    }
  },
  "cells": [
    {
      "cell_type": "markdown",
      "metadata": {
        "id": "view-in-github",
        "colab_type": "text"
      },
      "source": [
        "<a href=\"https://colab.research.google.com/github/jalynmb/TermProjectNLP/blob/main/TermProjectNLP.ipynb\" target=\"_parent\"><img src=\"https://colab.research.google.com/assets/colab-badge.svg\" alt=\"Open In Colab\"/></a>"
      ]
    },
    {
      "cell_type": "code",
      "execution_count": null,
      "metadata": {
        "id": "mZFy7jeM3Agh"
      },
      "outputs": [],
      "source": [
        "!pip install pandas\n",
        "!pip install --upgrade tensorflow\n",
        "!pip install --upgrade scikit-learn"
      ]
    },
    {
      "cell_type": "code",
      "source": [
        "#Import required Libraries\n",
        "import pandas as pd\n",
        "\n",
        "#Libraies to clean the data\n",
        "import nltk\n",
        "from nltk.corpus import stopwords\n",
        "\n",
        "#library for data Visualization\n",
        "import wordcloud\n",
        "import matplotlib.pyplot as plt\n",
        "\n",
        "#library and function for tokanization and vectorization\n",
        "from keras.preprocessing.text import Tokenizer\n",
        "from keras.preprocessing.sequence import pad_sequences\n",
        "\n",
        "#Importing libraries to build our models\n",
        "from sklearn.preprocessing import LabelEncoder\n",
        "from tensorflow.keras.utils import to_categorical\n",
        "from sklearn.model_selection import train_test_split\n",
        "from tensorflow.keras import Sequential\n",
        "from tensorflow.keras.layers import Dense, Embedding, Flatten"
      ],
      "metadata": {
        "id": "uD2lUNzT3hHn"
      },
      "execution_count": 4,
      "outputs": []
    },
    {
      "cell_type": "code",
      "source": [
        "file_path = '/customer_reviewers.tsv'\n",
        "data = pd.read_csv(file_path, delimiter= '\\t')\n",
        "print(data.head())"
      ],
      "metadata": {
        "colab": {
          "base_uri": "https://localhost:8080/"
        },
        "id": "xJEt8s6p5qEP",
        "outputId": "33a07c57-83d0-425f-f9f9-85de29d42cf6"
      },
      "execution_count": 6,
      "outputs": [
        {
          "output_type": "stream",
          "name": "stdout",
          "text": [
            "   rating       date         variation  \\\n",
            "0       5  31-Jul-18  Charcoal Fabric    \n",
            "1       5  31-Jul-18  Charcoal Fabric    \n",
            "2       4  31-Jul-18    Walnut Finish    \n",
            "3       5  31-Jul-18  Charcoal Fabric    \n",
            "4       5  31-Jul-18  Charcoal Fabric    \n",
            "\n",
            "                                    verified_reviews  feedback  \n",
            "0                                      Love my Echo!         1  \n",
            "1                                          Loved it!         1  \n",
            "2  Sometimes while playing a game, you can answer...         1  \n",
            "3  I have had a lot of fun with this thing. My 4 ...         1  \n",
            "4                                              Music         1  \n"
          ]
        }
      ]
    }
  ]
}